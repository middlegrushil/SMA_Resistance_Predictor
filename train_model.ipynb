{
 "cells": [
  {
   "cell_type": "code",
   "execution_count": 2,
   "id": "62620b95-23ce-4394-94be-13e6e1b61fa1",
   "metadata": {},
   "outputs": [
    {
     "name": "stdout",
     "output_type": "stream",
     "text": [
      "Model Performance:\n",
      "MSE: 0.000468, R²: 0.9946\n",
      "Model saved as 'sma_rf_model.pkl'\n"
     ]
    }
   ],
   "source": [
    "import numpy as np\n",
    "import pandas as pd\n",
    "from sklearn.model_selection import train_test_split\n",
    "from sklearn.ensemble import RandomForestRegressor\n",
    "from sklearn.metrics import mean_squared_error, r2_score\n",
    "import joblib\n",
    "\n",
    "# Generate synthetic data\n",
    "np.random.seed(42)\n",
    "num_samples = 1000\n",
    "\n",
    "# Features\n",
    "temperature = np.random.uniform(20, 120, num_samples)  # Temperature (°C)\n",
    "stress = np.random.uniform(0, 500, num_samples)  # Stress (MPa)\n",
    "phase_fraction = np.clip((temperature - 20) / 100, 0, 1)  # Phase Fraction\n",
    "\n",
    "# Electrical Resistance Calculation (Simplified Physics-based Model)\n",
    "R0 = 0.5  # Base resistance\n",
    "alpha = 0.002  # Stress factor\n",
    "beta = 0.1  # Phase factor\n",
    "resistance = R0 + alpha * stress + beta * phase_fraction + np.random.normal(0, 0.02, num_samples)  # Adding noise\n",
    "\n",
    "# Create DataFrame\n",
    "sma_dataset = pd.DataFrame({\n",
    "    'Temperature_C': temperature,\n",
    "    'Stress_MPa': stress,\n",
    "    'Phase_Fraction': phase_fraction,\n",
    "    'Resistance_Ohms': resistance\n",
    "})\n",
    "\n",
    "# Split Data\n",
    "X = sma_dataset[['Temperature_C', 'Stress_MPa', 'Phase_Fraction']]\n",
    "y = sma_dataset['Resistance_Ohms']\n",
    "X_train, X_test, y_train, y_test = train_test_split(X, y, test_size=0.2, random_state=42)\n",
    "\n",
    "# Train Model\n",
    "rf_model = RandomForestRegressor(n_estimators=100, random_state=42)\n",
    "rf_model.fit(X_train, y_train)\n",
    "\n",
    "# Evaluate Model\n",
    "y_pred = rf_model.predict(X_test)\n",
    "mse = mean_squared_error(y_test, y_pred)\n",
    "r2 = r2_score(y_test, y_pred)\n",
    "\n",
    "print(f\"Model Performance:\\nMSE: {mse:.6f}, R²: {r2:.4f}\")\n",
    "\n",
    "# Save Model\n",
    "joblib.dump(rf_model, \"sma_rf_model.pkl\")\n",
    "print(\"Model saved as 'sma_rf_model.pkl'\")\n"
   ]
  },
  {
   "cell_type": "code",
   "execution_count": null,
   "id": "e544f14f-043b-42ed-bb81-55f838ac4cd8",
   "metadata": {},
   "outputs": [],
   "source": []
  }
 ],
 "metadata": {
  "kernelspec": {
   "display_name": "Python 3 (ipykernel)",
   "language": "python",
   "name": "python3"
  },
  "language_info": {
   "codemirror_mode": {
    "name": "ipython",
    "version": 3
   },
   "file_extension": ".py",
   "mimetype": "text/x-python",
   "name": "python",
   "nbconvert_exporter": "python",
   "pygments_lexer": "ipython3",
   "version": "3.11.7"
  }
 },
 "nbformat": 4,
 "nbformat_minor": 5
}
